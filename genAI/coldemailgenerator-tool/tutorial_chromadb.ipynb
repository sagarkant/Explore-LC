{
 "cells": [
  {
   "cell_type": "code",
   "id": "initial_id",
   "metadata": {
    "collapsed": true,
    "ExecuteTime": {
     "end_time": "2024-11-06T07:27:52.403540Z",
     "start_time": "2024-11-06T07:27:49.714351Z"
    }
   },
   "source": [
    "from gc import collect\n",
    "\n",
    "import chromadb\n",
    "chroma_client = chromadb.Client()"
   ],
   "outputs": [],
   "execution_count": 1
  },
  {
   "metadata": {
    "ExecuteTime": {
     "end_time": "2024-11-06T07:27:56.933627Z",
     "start_time": "2024-11-06T07:27:56.920556Z"
    }
   },
   "cell_type": "code",
   "source": "collection = chroma_client.create_collection(name=\"my_collection\")",
   "id": "187093e9c6e76b39",
   "outputs": [],
   "execution_count": 2
  },
  {
   "metadata": {
    "ExecuteTime": {
     "end_time": "2024-11-06T07:28:19.274667Z",
     "start_time": "2024-11-06T07:28:07.928514Z"
    }
   },
   "cell_type": "code",
   "source": [
    "collection.add(\n",
    "    documents=[\n",
    "        \"This is a document about pineapple\",\n",
    "        \"This is a document about oranges\"\n",
    "    ],\n",
    "    ids=[\"1\", \"2\"]\n",
    ")"
   ],
   "id": "879cbccd99d90cee",
   "outputs": [
    {
     "name": "stderr",
     "output_type": "stream",
     "text": [
      "/Users/sagar.kant/.cache/chroma/onnx_models/all-MiniLM-L6-v2/onnx.tar.gz: 100%|██████████| 79.3M/79.3M [00:08<00:00, 9.76MiB/s]\n"
     ]
    }
   ],
   "execution_count": 3
  },
  {
   "metadata": {
    "ExecuteTime": {
     "end_time": "2024-11-06T07:28:26.107598Z",
     "start_time": "2024-11-06T07:28:26.097526Z"
    }
   },
   "cell_type": "code",
   "source": "collection.get()",
   "id": "e29537d10fa658cf",
   "outputs": [
    {
     "data": {
      "text/plain": [
       "{'ids': ['1', '2'],\n",
       " 'embeddings': None,\n",
       " 'metadatas': [None, None],\n",
       " 'documents': ['This is a document about pineapple',\n",
       "  'This is a document about oranges'],\n",
       " 'uris': None,\n",
       " 'data': None,\n",
       " 'included': ['metadatas', 'documents']}"
      ]
     },
     "execution_count": 4,
     "metadata": {},
     "output_type": "execute_result"
    }
   ],
   "execution_count": 4
  },
  {
   "metadata": {
    "ExecuteTime": {
     "end_time": "2024-11-06T07:30:21.504802Z",
     "start_time": "2024-11-06T07:30:21.317285Z"
    }
   },
   "cell_type": "code",
   "source": [
    "results=collection.query(\n",
    "    query_texts=[\"This is a query document about hawaii\"],\n",
    "    n_results=2\n",
    ")\n",
    "print(results)"
   ],
   "id": "44fcd7a4cb26e0de",
   "outputs": [
    {
     "name": "stdout",
     "output_type": "stream",
     "text": [
      "{'ids': [['1', '2']], 'distances': [[1.0403728485107422, 1.2430635690689087]], 'metadatas': [[None, None]], 'embeddings': None, 'documents': [['This is a document about pineapple', 'This is a document about oranges']], 'uris': None, 'data': None, 'included': ['metadatas', 'documents', 'distances']}\n"
     ]
    }
   ],
   "execution_count": 6
  },
  {
   "metadata": {
    "ExecuteTime": {
     "end_time": "2024-11-06T07:33:31.099533Z",
     "start_time": "2024-11-06T07:33:30.915211Z"
    }
   },
   "cell_type": "code",
   "source": [
    "result_florida=collection.query(\n",
    "    query_texts=[\"This is a query document about florida\"],\n",
    "    n_results=2\n",
    ")"
   ],
   "id": "7d14565096d51aef",
   "outputs": [],
   "execution_count": 7
  },
  {
   "metadata": {
    "ExecuteTime": {
     "end_time": "2024-11-06T07:33:44.984778Z",
     "start_time": "2024-11-06T07:33:44.981212Z"
    }
   },
   "cell_type": "code",
   "source": "print(result_florida)",
   "id": "47441a61ee21db46",
   "outputs": [
    {
     "name": "stdout",
     "output_type": "stream",
     "text": [
      "{'ids': [['2', '1']], 'distances': [[1.146208643913269, 1.301512360572815]], 'metadatas': [[None, None]], 'embeddings': None, 'documents': [['This is a document about oranges', 'This is a document about pineapple']], 'uris': None, 'data': None, 'included': ['metadatas', 'documents', 'distances']}\n"
     ]
    }
   ],
   "execution_count": 9
  },
  {
   "metadata": {
    "ExecuteTime": {
     "end_time": "2024-11-06T07:40:21.848583Z",
     "start_time": "2024-11-06T07:40:21.499462Z"
    }
   },
   "cell_type": "code",
   "source": [
    "collection.upsert(\n",
    "    documents=[\n",
    "        \"This is a document about New York\",\n",
    "        \"This is a document about Delhi\",\n",
    "    ],\n",
    "    ids=[\"3\", \"4\"],\n",
    "    metadatas=[\n",
    "        {\"url\":\"https/New York\"},\n",
    "        {\"url\":\"https/Delhi\"}\n",
    "    ]\n",
    ")"
   ],
   "id": "aedbd60e7c49d2e3",
   "outputs": [],
   "execution_count": 10
  },
  {
   "metadata": {
    "ExecuteTime": {
     "end_time": "2024-11-06T07:41:59.074361Z",
     "start_time": "2024-11-06T07:41:59.067266Z"
    }
   },
   "cell_type": "code",
   "source": "collection.get()",
   "id": "30d60fe4a47746de",
   "outputs": [
    {
     "data": {
      "text/plain": [
       "{'ids': ['1', '2', '3', '4'],\n",
       " 'embeddings': None,\n",
       " 'metadatas': [None, None, {'url': 'https/New York'}, {'url': 'https/Delhi'}],\n",
       " 'documents': ['This is a document about pineapple',\n",
       "  'This is a document about oranges',\n",
       "  'This is a document about New York',\n",
       "  'This is a document about Delhi'],\n",
       " 'uris': None,\n",
       " 'data': None,\n",
       " 'included': ['metadatas', 'documents']}"
      ]
     },
     "execution_count": 14,
     "metadata": {},
     "output_type": "execute_result"
    }
   ],
   "execution_count": 14
  },
  {
   "metadata": {
    "ExecuteTime": {
     "end_time": "2024-11-06T07:41:39.592698Z",
     "start_time": "2024-11-06T07:41:39.446522Z"
    }
   },
   "cell_type": "code",
   "source": [
    "result_CB=collection.query(\n",
    "    query_texts=[\"This is a query document about Chole Bhature\"],\n",
    "    n_results=2\n",
    ")"
   ],
   "id": "7bb7f5976229eb1",
   "outputs": [],
   "execution_count": 13
  },
  {
   "metadata": {
    "ExecuteTime": {
     "end_time": "2024-11-06T07:41:16.777959Z",
     "start_time": "2024-11-06T07:41:16.774111Z"
    }
   },
   "cell_type": "code",
   "source": "print(result_CB)",
   "id": "7dcc7162203b76c2",
   "outputs": [
    {
     "name": "stdout",
     "output_type": "stream",
     "text": [
      "{'ids': [['1']], 'distances': [[1.1653507947921753]], 'metadatas': [[None]], 'embeddings': None, 'documents': [['This is a document about pineapple']], 'uris': None, 'data': None, 'included': ['metadatas', 'documents', 'distances']}\n"
     ]
    }
   ],
   "execution_count": 12
  },
  {
   "metadata": {},
   "cell_type": "code",
   "outputs": [],
   "execution_count": null,
   "source": [
    "from langchain_community.document_loaders import WebBaseLoader\n",
    "\n",
    "loader = WebBaseLoader(\"https://www.espn.com/\")"
   ],
   "id": "5889d36e2485da82"
  }
 ],
 "metadata": {
  "kernelspec": {
   "display_name": "Python 3",
   "language": "python",
   "name": "python3"
  },
  "language_info": {
   "codemirror_mode": {
    "name": "ipython",
    "version": 2
   },
   "file_extension": ".py",
   "mimetype": "text/x-python",
   "name": "python",
   "nbconvert_exporter": "python",
   "pygments_lexer": "ipython2",
   "version": "2.7.6"
  }
 },
 "nbformat": 4,
 "nbformat_minor": 5
}
