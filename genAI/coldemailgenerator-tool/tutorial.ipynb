{
 "cells": [
  {
   "cell_type": "code",
   "id": "initial_id",
   "metadata": {
    "collapsed": true,
    "ExecuteTime": {
     "end_time": "2024-11-15T06:05:18.390375Z",
     "start_time": "2024-11-15T06:05:07.166743Z"
    }
   },
   "source": [
    "import getpass\n",
    "import os\n",
    "import uuid\n",
    "\n",
    "if \"GROQ_API_KEY\" not in os.environ:\n",
    "    os.environ[\"GROQ_API_KEY\"] = getpass.getpass(\"Enter your Groq API key: \")\n",
    "\n"
   ],
   "outputs": [],
   "execution_count": 1
  },
  {
   "metadata": {
    "ExecuteTime": {
     "end_time": "2024-11-15T06:05:21.186036Z",
     "start_time": "2024-11-15T06:05:20.476801Z"
    }
   },
   "cell_type": "code",
   "source": [
    "from langchain_groq import ChatGroq\n",
    "\n",
    "llm = ChatGroq(\n",
    "    model=\"llama-3.1-70b-versatile\",\n",
    "    temperature=0,\n",
    "    max_tokens=None,\n",
    "    timeout=None,\n",
    "    max_retries=2,\n",
    "    # other params...\n",
    ")\n"
   ],
   "id": "50fe90e574d0f066",
   "outputs": [],
   "execution_count": 2
  },
  {
   "metadata": {
    "ExecuteTime": {
     "end_time": "2024-11-15T06:05:24.009269Z",
     "start_time": "2024-11-15T06:05:22.694172Z"
    }
   },
   "cell_type": "code",
   "source": [
    "messages = [\n",
    "    (\n",
    "        \"system\",\n",
    "        \"You are a helpful assistant that translates English to French. Translate the user sentence.\",\n",
    "    ),\n",
    "    (\"human\", \"I love programming.\"),\n",
    "]\n",
    "ai_msg = llm.invoke(messages)\n",
    "ai_msg"
   ],
   "id": "58a421d14907c756",
   "outputs": [
    {
     "data": {
      "text/plain": [
       "AIMessage(content=\"J'adore la programmation.\", additional_kwargs={}, response_metadata={'token_usage': {'completion_tokens': 9, 'prompt_tokens': 55, 'total_tokens': 64, 'completion_time': 0.036, 'prompt_time': 0.010357251, 'queue_time': 0.068163813, 'total_time': 0.046357251}, 'model_name': 'llama-3.1-70b-versatile', 'system_fingerprint': 'fp_b3ae7e594e', 'finish_reason': 'stop', 'logprobs': None}, id='run-8226d094-f137-4b99-84d3-77b825756b7d-0', usage_metadata={'input_tokens': 55, 'output_tokens': 9, 'total_tokens': 64})"
      ]
     },
     "execution_count": 3,
     "metadata": {},
     "output_type": "execute_result"
    }
   ],
   "execution_count": 3
  },
  {
   "metadata": {
    "ExecuteTime": {
     "end_time": "2024-11-15T06:05:30.935012Z",
     "start_time": "2024-11-15T06:05:30.931735Z"
    }
   },
   "cell_type": "code",
   "source": "print(ai_msg.content)",
   "id": "b1a6132191a59956",
   "outputs": [
    {
     "name": "stdout",
     "output_type": "stream",
     "text": [
      "J'adore la programmation.\n"
     ]
    }
   ],
   "execution_count": 4
  },
  {
   "metadata": {
    "ExecuteTime": {
     "end_time": "2024-11-15T06:05:34.611165Z",
     "start_time": "2024-11-15T06:05:32.592662Z"
    }
   },
   "cell_type": "code",
   "source": [
    "from langchain_community.document_loaders import WebBaseLoader\n",
    "\n",
    "loader = WebBaseLoader(\"https://jobs.nike.com/job/R-43863?from=job%20search%20funnel\")\n",
    "page_data=loader.load().pop().page_content\n",
    "print(page_data)\n"
   ],
   "id": "59d11998c559ad6b",
   "outputs": [
    {
     "name": "stderr",
     "output_type": "stream",
     "text": [
      "USER_AGENT environment variable not set, consider setting it to identify your requests.\n"
     ]
    },
    {
     "name": "stdout",
     "output_type": "stream",
     "text": [
      "Apply for Software Engineer III, ITC\n",
      "\n",
      "Search JobsSkip navigationSearch JobsNIKE, INC. JOBSContract JobsJoin The Talent CommunityLife @ NikeOverviewBenefitsBrandsOverviewJordanConverseTeamsOverviewAdministrative SupportAdvanced InnovationAir Manufacturing InnovationAviationCommunicationsCustomer ServiceDesignDigitalFacilitiesFinance & AccountingGovernment & Public AffairsHuman ResourcesInsights & AnalyticsLegalManufacturing & EngineeringMarketingMerchandisingPlanningPrivacyProcurementProduct Creation, Development & ManagementRetail CorporateRetail StoresSalesSocial & Community ImpactSports MarketingStrategic PlanningSupply Chain, Distribution & LogisticsSustainabilityTechnologyLocationsOverviewNike WHQNike New York HQEHQ: Hilversum, The NetherlandsELC: Laakdal, BelgiumGreater China HQDiversity, Equity & InclusionOverviewMilitary InclusionDisability InclusionIndigenous InclusionInternshipsTechnologySoftware Engineer III, ITCKarnataka, IndiaBecome a Part of the NIKE, Inc. TeamNIKE, Inc. does more than outfit the world’s best athletes. It is a place to explore potential, obliterate boundaries and push out the edges of what can be. The company looks for people who can grow, think, dream and create. Its culture thrives by embracing diversity and rewarding imagination. The brand seeks achievers, leaders and visionaries. At NIKE, Inc. it’s about each person bringing skills and passion to a challenging and constantly evolving game.NIKE is a technology company. From our flagship website and five-star mobile apps to developing products, managing big data and providing leading edge engineering and systems support, our teams at NIKE Global Technology exist to revolutionize the future at the confluence of tech and sport. We invest and develop advances in technology and employ the most creative people in the world, and then give them the support to constantly innovate, iterate and serve consumers more directly and personally.  Our teams are innovative, diverse, multidisciplinary and collaborative, taking technology into the future and bringing the world with it.WHO YOU’LL WORK WITHThis role is part of the Nike’s Customer Data Platform within Marketing Technology. This team works on a variety of data points across Geos from Nike’ experiences, Data Science Models, Transaction Data, Permissions etc which are stitched together to create a rich customer overview that provides the marketers a buffet of options to choose for a marketing activity or build a insight. This team is powered by Data Engineering, Customer Data platform software service and many home grown tools based on cutting edge technologies.WHO WE ARE LOOKING FORWe are looking for a Software engineer, to be a part of Nike’s Marketing Technology organization. This position will play a critical role, in developing Nike’s Customer Data platform, which supports and promotes our products and provides a unique user experience to all our customers in166 countries globally. We are looking for someone to have a strong Marketing Automations skills and analytical background with a focus of delivering an omnichannel consumer experience through data driven marketing.We are looking for a candidate with a strong 5-8 years of experience on working on marketing Automation and reporting automation and should demonstrate below skills:5-8 years of technology related experience required.5+ years of hands-on experience in software engineering developing full stack software solutions.Marketing technology experience.Experience with various Adobe toolset in the marketing space– in particular Adobe.Experience Platform (AEP), Adobe Journey Optimizer (AJO), Customer Journey Analytics(CJA).Handson Experience on building marketing use cases using AJO and Segments.Experience in building customized marketing reporting solutions – Titan,Bigpanda,Splunk.Experience on Python or Java, Sql, Data Engineering, experience with the following tools or similar: Airflow, EMR, Hive, Spark, or similar.Demonstrated strength in data modeling, ETL development, and data streaming.Knowledge of data management fundamentals and data storage principles.Experience in microservices architecture, domain driven design, and RESTful API’s.Hands-on experience working in a distributed/cloud-based environment with high transaction volumes.Familiarity with the challenge of moving large files across a geographically disperse network. Knowledge of different accelerated transfer methods and technologies.Experience with implementing CI/CD and leading teams with DevOps responsibilities of deploying and supporting the software in production.WHAT YOU’LL WORK ONYou will be responsible for driving, owning, and shipping all aspects of large, multi-functional efforts and feature areas. You will partner with engineering teams throughout feature development from architecture, design, implementation, and validation.Collaborating with product team members at Nike to design, develop, and deploy a highly scalable digital system and services.Communicate and collaborate with other managers, stakeholders and contractors.Build complex data pipelines for real time data, Click stream analysis and work to achieve high-quality data ingestion goals.Collaborate with upstream and downstream technical teams to develop integrations to provide a seamless flow of our marketing assets from planning to delivery.  Contributing ideas for new features and identifying technical areas for improvement proactively.Contributing ideas for new features and identifying technical areas for improvement proactively.NIKE, Inc. is a growth company that looks for team members to grow with it. Nike offers a generous total rewards package, casual work environment, a diverse and inclusive culture, and an electric atmosphere for professional development. No matter the location, or the role, every Nike employee shares one galvanizing mission: To bring inspiration and innovation to every athlete* in the world.NIKE, Inc. is committed to employing a diverse workforce. Qualified applicants will receive consideration without regard to race, color, religion, sex, national origin, age, sexual orientation, gender identity, gender expression, veteran status, or disability.How We HireAt NIKE, Inc. we promise to provide a premium, inclusive, compelling and authentic candidate experience. Delivering on this promise means we allow you to be at your best — and to do that, you need to understand how the hiring process works. Transparency is key.\r\n",
      "\r\n",
      "* This overview explains our hiring process for corporate roles. Note there may be different hiring steps involved for non-corporate roles.Start nowBenefitsWhether it’s transportation or financial health, we continually invest in our employees to help them achieve greatness — inside and outside of work. All who work here should be able to realize their full potential.Employee Assistance ProgramHolidaysMedical PlanPaid Time Off (PTO)Product DiscountsLearn moreFIND A STOREBECOME A MEMBERSIGN UP FOR EMAILSEND US FEEDBACKSTUDENT DISCOUNTSGET HELPGET HELPOrder StatusDeliveryReturnsPayment OptionsContact Us On Nike.com InquiriesContact Us On All Other InquiriesABOUT NIKEABOUT NIKENewsCareersInvestorsSustainabilityIndia© 2024 Nike, Inc. All Rights ReservedGuidesNike AdaptNike Air MaxNike FlyleatherNike PegasusNike Zoom FlyNike AirNike FlyEaseNike FreeNike ReactNike ZoomXNike Air Force 1Nike FlyknitNike JoyrideNike VaporflyTerms of SaleTerms of UseNike Privacy Policy\n"
     ]
    }
   ],
   "execution_count": 5
  },
  {
   "metadata": {
    "ExecuteTime": {
     "end_time": "2024-11-15T06:05:36.989794Z",
     "start_time": "2024-11-15T06:05:36.987722Z"
    }
   },
   "cell_type": "code",
   "source": "",
   "id": "457cab3b13be6c70",
   "outputs": [],
   "execution_count": null
  },
  {
   "metadata": {
    "ExecuteTime": {
     "end_time": "2024-11-15T06:05:40.261469Z",
     "start_time": "2024-11-15T06:05:38.695801Z"
    }
   },
   "cell_type": "code",
   "source": [
    "from langchain_core.prompts import PromptTemplate\n",
    "\n",
    "prompt_extract = PromptTemplate.from_template(\n",
    "  \"\"\"\n",
    "  ### SCRAPED TEXT FROM WEBSITE:\n",
    "  {page_data}\n",
    "  ### INSTRUCTION:\n",
    "  The scraped text is from the career's page of a website.\n",
    "  Your job is to extract the job posting and return them in JSON format containing following keys : \n",
    "  'role','experience','skills' and 'description'.\n",
    "  Only return the valid JSON.\n",
    "  ### VALID JSON (NO PREAMBLE):\n",
    "  \"\"\"  \n",
    ")\n",
    "chain_extract=prompt_extract | llm\n",
    "res=chain_extract.invoke(input={'page_data' : page_data})\n",
    "print(res.content)"
   ],
   "id": "60ccb2d756eb530c",
   "outputs": [
    {
     "name": "stdout",
     "output_type": "stream",
     "text": [
      "```\n",
      "{\n",
      "  \"role\": \"Software Engineer III, ITC\",\n",
      "  \"experience\": \"5-8 years\",\n",
      "  \"skills\": [\n",
      "    \"Marketing Automations skills\",\n",
      "    \"Analytical background\",\n",
      "    \"Adobe toolset in the marketing space\",\n",
      "    \"Adobe Experience Platform (AEP)\",\n",
      "    \"Adobe Journey Optimizer (AJO)\",\n",
      "    \"Customer Journey Analytics (CJA)\",\n",
      "    \"Python or Java\",\n",
      "    \"Sql\",\n",
      "    \"Data Engineering\",\n",
      "    \"Airflow\",\n",
      "    \"EMR\",\n",
      "    \"Hive\",\n",
      "    \"Spark\",\n",
      "    \"Data modeling\",\n",
      "    \"ETL development\",\n",
      "    \"Data streaming\",\n",
      "    \"Microservices architecture\",\n",
      "    \"Domain driven design\",\n",
      "    \"RESTful API’s\",\n",
      "    \"CI/CD\",\n",
      "    \"DevOps\"\n",
      "  ],\n",
      "  \"description\": \"We are looking for a Software engineer, to be a part of Nike’s Marketing Technology organization. This position will play a critical role, in developing Nike’s Customer Data platform, which supports and promotes our products and provides a unique user experience to all our customers in 166 countries globally.\"\n",
      "}\n",
      "```\n"
     ]
    }
   ],
   "execution_count": 6
  },
  {
   "metadata": {
    "ExecuteTime": {
     "end_time": "2024-11-15T06:05:49.507825Z",
     "start_time": "2024-11-15T06:05:49.503484Z"
    }
   },
   "cell_type": "code",
   "source": "type(res.content)",
   "id": "822ad995e0644461",
   "outputs": [
    {
     "data": {
      "text/plain": [
       "str"
      ]
     },
     "execution_count": 7,
     "metadata": {},
     "output_type": "execute_result"
    }
   ],
   "execution_count": 7
  },
  {
   "metadata": {
    "ExecuteTime": {
     "end_time": "2024-11-15T06:05:53.307573Z",
     "start_time": "2024-11-15T06:05:53.301883Z"
    }
   },
   "cell_type": "code",
   "source": [
    "from langchain_core.output_parsers import JsonOutputParser\n",
    "\n",
    "json_parser=JsonOutputParser()\n",
    "json_res=json_parser.parse(res.content)\n",
    "json_res"
   ],
   "id": "f082702692e33340",
   "outputs": [
    {
     "data": {
      "text/plain": [
       "{'role': 'Software Engineer III, ITC',\n",
       " 'experience': '5-8 years',\n",
       " 'skills': ['Marketing Automations skills',\n",
       "  'Analytical background',\n",
       "  'Adobe toolset in the marketing space',\n",
       "  'Adobe Experience Platform (AEP)',\n",
       "  'Adobe Journey Optimizer (AJO)',\n",
       "  'Customer Journey Analytics (CJA)',\n",
       "  'Python or Java',\n",
       "  'Sql',\n",
       "  'Data Engineering',\n",
       "  'Airflow',\n",
       "  'EMR',\n",
       "  'Hive',\n",
       "  'Spark',\n",
       "  'Data modeling',\n",
       "  'ETL development',\n",
       "  'Data streaming',\n",
       "  'Microservices architecture',\n",
       "  'Domain driven design',\n",
       "  'RESTful API’s',\n",
       "  'CI/CD',\n",
       "  'DevOps'],\n",
       " 'description': 'We are looking for a Software engineer, to be a part of Nike’s Marketing Technology organization. This position will play a critical role, in developing Nike’s Customer Data platform, which supports and promotes our products and provides a unique user experience to all our customers in 166 countries globally.'}"
      ]
     },
     "execution_count": 8,
     "metadata": {},
     "output_type": "execute_result"
    }
   ],
   "execution_count": 8
  },
  {
   "metadata": {
    "ExecuteTime": {
     "end_time": "2024-11-15T06:05:56.110457Z",
     "start_time": "2024-11-15T06:05:56.105680Z"
    }
   },
   "cell_type": "code",
   "source": "type(json_res)",
   "id": "49699d6d67e457fe",
   "outputs": [
    {
     "data": {
      "text/plain": [
       "dict"
      ]
     },
     "execution_count": 9,
     "metadata": {},
     "output_type": "execute_result"
    }
   ],
   "execution_count": 9
  },
  {
   "metadata": {
    "ExecuteTime": {
     "end_time": "2024-11-15T06:06:01.622267Z",
     "start_time": "2024-11-15T06:05:58.976178Z"
    }
   },
   "cell_type": "code",
   "source": [
    "import pandas as pd\n",
    "df=pd.read_csv('my_portfolio.csv')"
   ],
   "id": "83c6f77205cf0fd8",
   "outputs": [],
   "execution_count": 10
  },
  {
   "metadata": {
    "ExecuteTime": {
     "end_time": "2024-11-15T06:06:01.635072Z",
     "start_time": "2024-11-15T06:06:01.628921Z"
    }
   },
   "cell_type": "code",
   "source": "df",
   "id": "48fb1e8079ad0086",
   "outputs": [
    {
     "data": {
      "text/plain": [
       "                               Techstack  \\\n",
       "0                React, Node.js, MongoDB   \n",
       "1               Angular,.NET, SQL Server   \n",
       "2      Vue.js, Ruby on Rails, PostgreSQL   \n",
       "3                  Python, Django, MySQL   \n",
       "4              Java, Spring Boot, Oracle   \n",
       "5             Flutter, Firebase, GraphQL   \n",
       "6                  WordPress, PHP, MySQL   \n",
       "7                    Magento, PHP, MySQL   \n",
       "8         React Native, Node.js, MongoDB   \n",
       "9                  iOS, Swift, Core Data   \n",
       "10       Android, Java, Room Persistence   \n",
       "11             Kotlin, Android, Firebase   \n",
       "12       Android TV, Kotlin, Android NDK   \n",
       "13                     iOS, Swift, ARKit   \n",
       "14        Cross-platform, Xamarin, Azure   \n",
       "15          Backend, Kotlin, Spring Boot   \n",
       "16         Frontend, TypeScript, Angular   \n",
       "17    Full-stack, JavaScript, Express.js   \n",
       "18  Machine Learning, Python, TensorFlow   \n",
       "19               DevOps, Jenkins, Docker   \n",
       "\n",
       "                                                Links  \n",
       "0                 https://example.com/react-portfolio  \n",
       "1               https://example.com/angular-portfolio  \n",
       "2                   https://example.com/vue-portfolio  \n",
       "3                https://example.com/python-portfolio  \n",
       "4                  https://example.com/java-portfolio  \n",
       "5               https://example.com/flutter-portfolio  \n",
       "6             https://example.com/wordpress-portfolio  \n",
       "7               https://example.com/magento-portfolio  \n",
       "8          https://example.com/react-native-portfolio  \n",
       "9                   https://example.com/ios-portfolio  \n",
       "10              https://example.com/android-portfolio  \n",
       "11       https://example.com/kotlin-android-portfolio  \n",
       "12           https://example.com/android-tv-portfolio  \n",
       "13               https://example.com/ios-ar-portfolio  \n",
       "14              https://example.com/xamarin-portfolio  \n",
       "15       https://example.com/kotlin-backend-portfolio  \n",
       "16  https://example.com/typescript-frontend-portfolio  \n",
       "17        https://example.com/full-stack-js-portfolio  \n",
       "18            https://example.com/ml-python-portfolio  \n",
       "19               https://example.com/devops-portfolio  "
      ],
      "text/html": [
       "<div>\n",
       "<style scoped>\n",
       "    .dataframe tbody tr th:only-of-type {\n",
       "        vertical-align: middle;\n",
       "    }\n",
       "\n",
       "    .dataframe tbody tr th {\n",
       "        vertical-align: top;\n",
       "    }\n",
       "\n",
       "    .dataframe thead th {\n",
       "        text-align: right;\n",
       "    }\n",
       "</style>\n",
       "<table border=\"1\" class=\"dataframe\">\n",
       "  <thead>\n",
       "    <tr style=\"text-align: right;\">\n",
       "      <th></th>\n",
       "      <th>Techstack</th>\n",
       "      <th>Links</th>\n",
       "    </tr>\n",
       "  </thead>\n",
       "  <tbody>\n",
       "    <tr>\n",
       "      <th>0</th>\n",
       "      <td>React, Node.js, MongoDB</td>\n",
       "      <td>https://example.com/react-portfolio</td>\n",
       "    </tr>\n",
       "    <tr>\n",
       "      <th>1</th>\n",
       "      <td>Angular,.NET, SQL Server</td>\n",
       "      <td>https://example.com/angular-portfolio</td>\n",
       "    </tr>\n",
       "    <tr>\n",
       "      <th>2</th>\n",
       "      <td>Vue.js, Ruby on Rails, PostgreSQL</td>\n",
       "      <td>https://example.com/vue-portfolio</td>\n",
       "    </tr>\n",
       "    <tr>\n",
       "      <th>3</th>\n",
       "      <td>Python, Django, MySQL</td>\n",
       "      <td>https://example.com/python-portfolio</td>\n",
       "    </tr>\n",
       "    <tr>\n",
       "      <th>4</th>\n",
       "      <td>Java, Spring Boot, Oracle</td>\n",
       "      <td>https://example.com/java-portfolio</td>\n",
       "    </tr>\n",
       "    <tr>\n",
       "      <th>5</th>\n",
       "      <td>Flutter, Firebase, GraphQL</td>\n",
       "      <td>https://example.com/flutter-portfolio</td>\n",
       "    </tr>\n",
       "    <tr>\n",
       "      <th>6</th>\n",
       "      <td>WordPress, PHP, MySQL</td>\n",
       "      <td>https://example.com/wordpress-portfolio</td>\n",
       "    </tr>\n",
       "    <tr>\n",
       "      <th>7</th>\n",
       "      <td>Magento, PHP, MySQL</td>\n",
       "      <td>https://example.com/magento-portfolio</td>\n",
       "    </tr>\n",
       "    <tr>\n",
       "      <th>8</th>\n",
       "      <td>React Native, Node.js, MongoDB</td>\n",
       "      <td>https://example.com/react-native-portfolio</td>\n",
       "    </tr>\n",
       "    <tr>\n",
       "      <th>9</th>\n",
       "      <td>iOS, Swift, Core Data</td>\n",
       "      <td>https://example.com/ios-portfolio</td>\n",
       "    </tr>\n",
       "    <tr>\n",
       "      <th>10</th>\n",
       "      <td>Android, Java, Room Persistence</td>\n",
       "      <td>https://example.com/android-portfolio</td>\n",
       "    </tr>\n",
       "    <tr>\n",
       "      <th>11</th>\n",
       "      <td>Kotlin, Android, Firebase</td>\n",
       "      <td>https://example.com/kotlin-android-portfolio</td>\n",
       "    </tr>\n",
       "    <tr>\n",
       "      <th>12</th>\n",
       "      <td>Android TV, Kotlin, Android NDK</td>\n",
       "      <td>https://example.com/android-tv-portfolio</td>\n",
       "    </tr>\n",
       "    <tr>\n",
       "      <th>13</th>\n",
       "      <td>iOS, Swift, ARKit</td>\n",
       "      <td>https://example.com/ios-ar-portfolio</td>\n",
       "    </tr>\n",
       "    <tr>\n",
       "      <th>14</th>\n",
       "      <td>Cross-platform, Xamarin, Azure</td>\n",
       "      <td>https://example.com/xamarin-portfolio</td>\n",
       "    </tr>\n",
       "    <tr>\n",
       "      <th>15</th>\n",
       "      <td>Backend, Kotlin, Spring Boot</td>\n",
       "      <td>https://example.com/kotlin-backend-portfolio</td>\n",
       "    </tr>\n",
       "    <tr>\n",
       "      <th>16</th>\n",
       "      <td>Frontend, TypeScript, Angular</td>\n",
       "      <td>https://example.com/typescript-frontend-portfolio</td>\n",
       "    </tr>\n",
       "    <tr>\n",
       "      <th>17</th>\n",
       "      <td>Full-stack, JavaScript, Express.js</td>\n",
       "      <td>https://example.com/full-stack-js-portfolio</td>\n",
       "    </tr>\n",
       "    <tr>\n",
       "      <th>18</th>\n",
       "      <td>Machine Learning, Python, TensorFlow</td>\n",
       "      <td>https://example.com/ml-python-portfolio</td>\n",
       "    </tr>\n",
       "    <tr>\n",
       "      <th>19</th>\n",
       "      <td>DevOps, Jenkins, Docker</td>\n",
       "      <td>https://example.com/devops-portfolio</td>\n",
       "    </tr>\n",
       "  </tbody>\n",
       "</table>\n",
       "</div>"
      ]
     },
     "execution_count": 11,
     "metadata": {},
     "output_type": "execute_result"
    }
   ],
   "execution_count": 11
  },
  {
   "metadata": {
    "ExecuteTime": {
     "end_time": "2024-11-15T06:06:17.138706Z",
     "start_time": "2024-11-15T06:06:15.400676Z"
    }
   },
   "cell_type": "code",
   "source": [
    "from uuid import uuid4\n",
    "import chromadb\n",
    "client=chromadb.PersistentClient('vectorstore1')\n",
    "collection=client.get_or_create_collection(name='portfolio1')\n",
    "\n",
    "if not collection.count():\n",
    "    for _,row in df.iterrows():\n",
    "        collection.add(documents=row[\"Techstack\"],\n",
    "                       metadatas={\"links\": row[\"Links\"]},\n",
    "                       ids=[str(uuid4())])"
   ],
   "id": "be2a8e0efd2e743c",
   "outputs": [],
   "execution_count": 13
  },
  {
   "metadata": {
    "ExecuteTime": {
     "end_time": "2024-11-15T06:10:09.521483Z",
     "start_time": "2024-11-15T06:10:09.137849Z"
    }
   },
   "cell_type": "code",
   "source": [
    "links=collection.query(query_texts=[\"Experience in Python\",\"Expertise in React\"],n_results=2).get('metadatas')\n",
    "links"
   ],
   "id": "1701b9473dec5050",
   "outputs": [
    {
     "data": {
      "text/plain": [
       "[[{'links': 'https://example.com/ml-python-portfolio'},\n",
       "  {'links': 'https://example.com/python-portfolio'}],\n",
       " [{'links': 'https://example.com/react-portfolio'},\n",
       "  {'links': 'https://example.com/react-native-portfolio'}]]"
      ]
     },
     "execution_count": 16,
     "metadata": {},
     "output_type": "execute_result"
    }
   ],
   "execution_count": 16
  },
  {
   "metadata": {
    "ExecuteTime": {
     "end_time": "2024-11-15T06:10:41.539089Z",
     "start_time": "2024-11-15T06:10:41.533530Z"
    }
   },
   "cell_type": "code",
   "source": [
    "job=json_res\n",
    "job['skills']"
   ],
   "id": "8e20a18ebcf7497e",
   "outputs": [
    {
     "data": {
      "text/plain": [
       "['Marketing Automations skills',\n",
       " 'Analytical background',\n",
       " 'Adobe toolset in the marketing space',\n",
       " 'Adobe Experience Platform (AEP)',\n",
       " 'Adobe Journey Optimizer (AJO)',\n",
       " 'Customer Journey Analytics (CJA)',\n",
       " 'Python or Java',\n",
       " 'Sql',\n",
       " 'Data Engineering',\n",
       " 'Airflow',\n",
       " 'EMR',\n",
       " 'Hive',\n",
       " 'Spark',\n",
       " 'Data modeling',\n",
       " 'ETL development',\n",
       " 'Data streaming',\n",
       " 'Microservices architecture',\n",
       " 'Domain driven design',\n",
       " 'RESTful API’s',\n",
       " 'CI/CD',\n",
       " 'DevOps']"
      ]
     },
     "execution_count": 18,
     "metadata": {},
     "output_type": "execute_result"
    }
   ],
   "execution_count": 18
  },
  {
   "metadata": {
    "ExecuteTime": {
     "end_time": "2024-11-15T06:14:14.638360Z",
     "start_time": "2024-11-15T06:14:12.778480Z"
    }
   },
   "cell_type": "code",
   "source": [
    "prompt_email = PromptTemplate.from_template(\n",
    "        \"\"\"\n",
    "        ### JOB DESCRIPTION:\n",
    "        {job_description}\n",
    "        \n",
    "        ### INSTRUCTION:\n",
    "        You are Sagar, a business development executive at AtliQ. AtliQ is an AI & Software Consulting company dedicated to facilitating\n",
    "        the seamless integration of business processes through automated tools. \n",
    "        Over our experience, we have empowered numerous enterprises with tailored solutions, fostering scalability, \n",
    "        process optimization, cost reduction, and heightened overall efficiency. \n",
    "        Your job is to write a cold email to the client regarding the job mentioned above describing the capability of AtliQ \n",
    "        in fulfilling their needs.\n",
    "        Also add the most relevant ones from the following links to showcase Atliq's portfolio: {link_list}\n",
    "        Remember you are Sagar, BDE at AtliQ. \n",
    "        Do not provide a preamble.\n",
    "        ### EMAIL (NO PREAMBLE):\n",
    "        \n",
    "        \"\"\"\n",
    "        )\n",
    "\n",
    "chain_email = prompt_email | llm\n",
    "res = chain_email.invoke({\"job_description\": str(job), \"link_list\": links})\n",
    "print(res.content)"
   ],
   "id": "2589e3f6609e8111",
   "outputs": [
    {
     "name": "stdout",
     "output_type": "stream",
     "text": [
      "Subject: Expert Software Engineering Services for Nike's Customer Data Platform\n",
      "\n",
      "Dear Hiring Manager,\n",
      "\n",
      "I came across the job description for a Software Engineer III, ITC at Nike, and I was impressed by the company's vision to develop a Customer Data platform that provides a unique user experience to customers globally. As a Business Development Executive at AtliQ, I believe our team can help you achieve this goal.\n",
      "\n",
      "At AtliQ, we specialize in AI and software consulting, focusing on integrating business processes through automated tools. Our expertise in software engineering, data engineering, and data modeling aligns perfectly with the requirements mentioned in the job description. We have a proven track record of delivering scalable, optimized, and efficient solutions to numerous enterprises.\n",
      "\n",
      "Our team has extensive experience in working with technologies such as Python, Java, SQL, Airflow, EMR, Hive, Spark, and microservices architecture. We have also worked on various data engineering projects, including ETL development, data streaming, and data modeling. Our expertise in Adobe toolset, including Adobe Experience Platform (AEP) and Adobe Journey Optimizer (AJO), can help you develop a robust Customer Data platform.\n",
      "\n",
      "I'd like to highlight a few examples of our work in Python and data engineering:\n",
      "\n",
      "* Our Python portfolio showcases our expertise in machine learning and data science: https://example.com/ml-python-portfolio\n",
      "* Our data engineering portfolio demonstrates our capabilities in building scalable data pipelines: https://example.com/python-portfolio\n",
      "\n",
      "We'd love to discuss how our team can help Nike achieve its goals. If you're interested in learning more about our services, I'd be happy to schedule a call.\n",
      "\n",
      "Best regards,\n",
      "\n",
      "Sagar\n",
      "Business Development Executive\n",
      "AtliQ\n"
     ]
    }
   ],
   "execution_count": 20
  },
  {
   "metadata": {},
   "cell_type": "code",
   "outputs": [],
   "execution_count": null,
   "source": "",
   "id": "21da515569b09907"
  }
 ],
 "metadata": {
  "kernelspec": {
   "display_name": "Python 3",
   "language": "python",
   "name": "python3"
  },
  "language_info": {
   "codemirror_mode": {
    "name": "ipython",
    "version": 2
   },
   "file_extension": ".py",
   "mimetype": "text/x-python",
   "name": "python",
   "nbconvert_exporter": "python",
   "pygments_lexer": "ipython2",
   "version": "2.7.6"
  }
 },
 "nbformat": 4,
 "nbformat_minor": 5
}
