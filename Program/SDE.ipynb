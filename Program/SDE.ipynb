{
 "cells": [
  {
   "cell_type": "markdown",
   "metadata": {},
   "source": [
    "# Problem 1\n",
    "Given an array of integers nums and an integer target, return indices of the two numbers such that they add up to target.\n",
    "\n",
    "You may assume that each input would have exactly one solution, and you may not use the same element twice.\n",
    "\n",
    "You can return the answer in any order."
   ]
  },
  {
   "cell_type": "code",
   "execution_count": 10,
   "metadata": {},
   "outputs": [
    {
     "data": {
      "text/plain": [
       "[1, 2]"
      ]
     },
     "execution_count": 10,
     "metadata": {},
     "output_type": "execute_result"
    }
   ],
   "source": [
    "nums = [3,2,4]\n",
    "target = 6\n",
    "def find_target(num,target):\n",
    "    final=[]\n",
    "    for i in range(0,len(nums)):\n",
    "        counter1=i\n",
    "        counter2=i+1\n",
    "        while(counter2<len(nums)):\n",
    "            \n",
    "            if nums[counter1]+nums[counter2]==target:\n",
    "                final=[counter1,counter2]\n",
    "                counter2+=1\n",
    "            \n",
    "            else:\n",
    "                \n",
    "                counter2+=1\n",
    "    return final\n",
    "\n",
    "\n",
    "\n",
    "        \n",
    "\n",
    "find_target(nums,target)"
   ]
  },
  {
   "cell_type": "markdown",
   "metadata": {},
   "source": [
    "# Problem 2 \n",
    "You are given two non-empty linked lists representing two non-negative integers. The digits are stored in reverse order, and each of their nodes contains a single digit. Add the two numbers and return the sum as a linked list.\n",
    "\n",
    "You may assume the two numbers do not contain any leading zero, except the number 0 itself."
   ]
  },
  {
   "cell_type": "code",
   "execution_count": null,
   "metadata": {},
   "outputs": [],
   "source": [
    "class Solution:\n",
    "    def addTwoNumbers(self,l1:ListNode,l2:ListNode) -> ListNode:\n",
    "        dummy=ListNode()\n",
    "        cur=dummy\n",
    "        \n",
    "        carry=0\n",
    "        \n",
    "        while l1 or l2 or carry :\n",
    "            v1=l1.val if l1 else 0\n",
    "            v2=l2.val if l2 else 0\n",
    "            #new digit\n",
    "            val=v1+v2+carry\n",
    "            #15\n",
    "            carry= val//10\n",
    "            val=val%10\n",
    "            cur.next=ListNode(val)\n",
    "            \n",
    "            #update ptrs\n",
    "            cur=cur.next\n",
    "            l1=l1.next if l1 else None\n",
    "            l2=l2.next if l2 else None\n",
    "        return dummy.next\n",
    "            \n",
    "            "
   ]
  },
  {
   "cell_type": "markdown",
   "metadata": {},
   "source": [
    "# Longest Substring Without Repeating Characters\n",
    "\n",
    "Given a string s, find the length of the longest substring without repeating characters.\n",
    "\n",
    "\n",
    "Example 1:\n",
    "\n",
    "Input: s = \"abcabcbb\"\n",
    "Output: 3\n",
    "Explanation: The answer is \"abc\", with the length of 3.\n",
    "Example 2:\n",
    "\n",
    "Input: s = \"bbbbb\"\n",
    "Output: 1\n",
    "Explanation: The answer is \"b\", with the length of 1.\n",
    "Example 3:\n",
    "\n",
    "Input: s = \"pwwkew\"\n",
    "Output: 3\n",
    "Explanation: The answer is \"wke\", with the length of 3.\n",
    "Notice that the answer must be a substring, \"pwke\" is a subsequence and not a substring.\n"
   ]
  },
  {
   "cell_type": "code",
   "execution_count": 23,
   "metadata": {},
   "outputs": [],
   "source": [
    "s= ' '\n",
    "def findlong(s):\n",
    "    \n",
    "    substring_f=' '\n",
    "    sub=''\n",
    "    for char in s:\n",
    "        # print(char)\n",
    "        # print(sub)\n",
    "        \n",
    "        if char not in sub:\n",
    "            sub=sub+char\n",
    "        else :\n",
    "            if len(substring_f)<len(sub):\n",
    "                substring_f=sub\n",
    "                sub=''\n",
    "                sub=sub+char\n",
    "    #\n",
    "    # if not substring_f)        \n",
    "    return len(substring_f)"
   ]
  },
  {
   "cell_type": "code",
   "execution_count": 24,
   "metadata": {},
   "outputs": [
    {
     "name": "stdout",
     "output_type": "stream",
     "text": [
      "1\n"
     ]
    }
   ],
   "source": [
    "print(findlong(s))"
   ]
  },
  {
   "cell_type": "markdown",
   "metadata": {},
   "source": [
    "# Longest Palindromic Substring\n",
    "\n",
    "\n",
    "Given a string s, return the longest \n",
    "palindromic substring in s.\n",
    "\n"
   ]
  },
  {
   "cell_type": "code",
   "execution_count": 18,
   "metadata": {},
   "outputs": [],
   "source": [
    "\n",
    "\n",
    "def longestPalindrome(s):\n",
    "    pal_str=''\n",
    "    str=''\n",
    "    for char in s:\n",
    "        # print(char)\n",
    "        str=str+char\n",
    "        # print(str)\n",
    "        # print(\"reverse \"+ str[::-1])\n",
    "        if len(str[1:])>1 and str[1:]==str[::-1][:len(str)-1]:\n",
    "            if len(pal_str)<len(str[1:]):\n",
    "                pal_str=str[1:]\n",
    "        if len(str)>1 and str==str[::-1]:\n",
    "            if len(pal_str)<len(str):\n",
    "                pal_str=str\n",
    "    \n",
    "    return pal_str\n",
    "        "
   ]
  },
  {
   "cell_type": "code",
   "execution_count": 20,
   "metadata": {},
   "outputs": [],
   "source": [
    "x=longestPalindrome('cbbd')"
   ]
  },
  {
   "cell_type": "code",
   "execution_count": 21,
   "metadata": {},
   "outputs": [
    {
     "name": "stdout",
     "output_type": "stream",
     "text": [
      "bb\n"
     ]
    }
   ],
   "source": [
    "print(x)"
   ]
  },
  {
   "cell_type": "markdown",
   "metadata": {},
   "source": [
    "# String to Integer (atoi)\n",
    "\n",
    "Implement the myAtoi(string s) function, which converts a string to a 32-bit signed integer.\n",
    "\n",
    "The algorithm for myAtoi(string s) is as follows:\n",
    "\n",
    "Whitespace: Ignore any leading whitespace (\" \").\n",
    "Signedness: Determine the sign by checking if the next character is '-' or '+', assuming positivity is neither present.\n",
    "Conversion: Read the integer by skipping leading zeros until a non-digit character is encountered or the end of the string is reached. If no digits were read, then the result is 0.\n",
    "Rounding: If the integer is out of the 32-bit signed integer range [-231, 231 - 1], then round the integer to remain in the range. Specifically, integers less than -231 should be rounded to -231, and integers greater than 231 - 1 should be rounded to 231 - 1.\n",
    "Return the integer as the final result."
   ]
  },
  {
   "cell_type": "code",
   "metadata": {
    "ExecuteTime": {
     "end_time": "2024-11-04T04:44:40.314433Z",
     "start_time": "2024-11-04T04:44:40.309518Z"
    }
   },
   "source": [
    "s=\"42\"\n",
    "\n",
    "class Solution:\n",
    "    def myAtoi(self,s:str) -> int:\n",
    "        if not s:\n",
    "            return 0\n",
    "        n=len(s)\n",
    "        if n ==0:\n",
    "            return 0\n",
    "        i=0\n",
    "        while s[i]==' ':\n",
    "            i+=1\n",
    "            if i ==n:\n",
    "                return 0\n",
    "        sign=-1 if s[i]=='-' else 1\n",
    "        if s[i] in ['-','+']:\n",
    "            i+=1\n",
    "        res,flag=0,(2**31 -1) //10\n",
    "        while i<n:\n",
    "            if not s[i].isdigit():\n",
    "                break\n",
    "            c=int(s[i])\n",
    "            if res > flag or (res == flag and c > 7):\n",
    "                return 2**31 - 1 if sign > 0 else -(2**31)\n",
    "            res = res * 10 + c\n",
    "            i += 1\n",
    "        return sign * res\n",
    "    \n",
    "    "
   ],
   "outputs": [],
   "execution_count": 4
  },
  {
   "cell_type": "code",
   "metadata": {
    "ExecuteTime": {
     "end_time": "2024-11-04T04:49:36.260375Z",
     "start_time": "2024-11-04T04:48:07.566425Z"
    }
   },
   "source": [
    "d='42'\n",
    "s= Solution()\n",
    "s.myAtoi(d)"
   ],
   "outputs": [
    {
     "ename": "KeyboardInterrupt",
     "evalue": "",
     "output_type": "error",
     "traceback": [
      "\u001B[0;31m---------------------------------------------------------------------------\u001B[0m",
      "\u001B[0;31mKeyboardInterrupt\u001B[0m                         Traceback (most recent call last)",
      "Cell \u001B[0;32mIn[7], line 3\u001B[0m\n\u001B[1;32m      1\u001B[0m d\u001B[38;5;241m=\u001B[39m\u001B[38;5;124m'\u001B[39m\u001B[38;5;124m42\u001B[39m\u001B[38;5;124m'\u001B[39m\n\u001B[1;32m      2\u001B[0m s\u001B[38;5;241m=\u001B[39m Solution()\n\u001B[0;32m----> 3\u001B[0m \u001B[43ms\u001B[49m\u001B[38;5;241;43m.\u001B[39;49m\u001B[43mmyAtoi\u001B[49m\u001B[43m(\u001B[49m\u001B[43md\u001B[49m\u001B[43m)\u001B[49m\n",
      "Cell \u001B[0;32mIn[4], line 20\u001B[0m, in \u001B[0;36mSolution.myAtoi\u001B[0;34m(self, s)\u001B[0m\n\u001B[1;32m     18\u001B[0m res,flag\u001B[38;5;241m=\u001B[39m\u001B[38;5;241m0\u001B[39m,(\u001B[38;5;241m2\u001B[39m\u001B[38;5;241m*\u001B[39m\u001B[38;5;241m*\u001B[39m\u001B[38;5;241m31\u001B[39m \u001B[38;5;241m-\u001B[39m\u001B[38;5;241m1\u001B[39m) \u001B[38;5;241m/\u001B[39m\u001B[38;5;241m/\u001B[39m\u001B[38;5;241m10\u001B[39m\n\u001B[1;32m     19\u001B[0m \u001B[38;5;28;01mwhile\u001B[39;00m i\u001B[38;5;241m<\u001B[39mn:\n\u001B[0;32m---> 20\u001B[0m     \u001B[38;5;28;01mif\u001B[39;00m \u001B[38;5;129;01mnot\u001B[39;00m \u001B[43ms\u001B[49m[i]\u001B[38;5;241m.\u001B[39misdigit():\n\u001B[1;32m     21\u001B[0m         \u001B[38;5;28;01mbreak\u001B[39;00m\n\u001B[1;32m     22\u001B[0m     c\u001B[38;5;241m=\u001B[39m\u001B[38;5;28mint\u001B[39m(s[i])\n",
      "File \u001B[0;32m_pydevd_bundle/pydevd_cython_darwin_312_64.pyx:1187\u001B[0m, in \u001B[0;36m_pydevd_bundle.pydevd_cython_darwin_312_64.SafeCallWrapper.__call__\u001B[0;34m()\u001B[0m\n",
      "File \u001B[0;32m_pydevd_bundle/pydevd_cython_darwin_312_64.pyx:627\u001B[0m, in \u001B[0;36m_pydevd_bundle.pydevd_cython_darwin_312_64.PyDBFrame.trace_dispatch\u001B[0;34m()\u001B[0m\n",
      "File \u001B[0;32m_pydevd_bundle/pydevd_cython_darwin_312_64.pyx:937\u001B[0m, in \u001B[0;36m_pydevd_bundle.pydevd_cython_darwin_312_64.PyDBFrame.trace_dispatch\u001B[0;34m()\u001B[0m\n",
      "File \u001B[0;32m_pydevd_bundle/pydevd_cython_darwin_312_64.pyx:928\u001B[0m, in \u001B[0;36m_pydevd_bundle.pydevd_cython_darwin_312_64.PyDBFrame.trace_dispatch\u001B[0;34m()\u001B[0m\n",
      "File \u001B[0;32m_pydevd_bundle/pydevd_cython_darwin_312_64.pyx:585\u001B[0m, in \u001B[0;36m_pydevd_bundle.pydevd_cython_darwin_312_64.PyDBFrame.do_wait_suspend\u001B[0;34m()\u001B[0m\n",
      "File \u001B[0;32m/Applications/PyCharm.app/Contents/plugins/python-ce/helpers/pydev/pydevd.py:1220\u001B[0m, in \u001B[0;36mPyDB.do_wait_suspend\u001B[0;34m(self, thread, frame, event, arg, send_suspend_message, is_unhandled_exception)\u001B[0m\n\u001B[1;32m   1217\u001B[0m         from_this_thread\u001B[38;5;241m.\u001B[39mappend(frame_id)\n\u001B[1;32m   1219\u001B[0m \u001B[38;5;28;01mwith\u001B[39;00m \u001B[38;5;28mself\u001B[39m\u001B[38;5;241m.\u001B[39m_threads_suspended_single_notification\u001B[38;5;241m.\u001B[39mnotify_thread_suspended(thread_id, stop_reason):\n\u001B[0;32m-> 1220\u001B[0m     \u001B[38;5;28;43mself\u001B[39;49m\u001B[38;5;241;43m.\u001B[39;49m\u001B[43m_do_wait_suspend\u001B[49m\u001B[43m(\u001B[49m\u001B[43mthread\u001B[49m\u001B[43m,\u001B[49m\u001B[43m \u001B[49m\u001B[43mframe\u001B[49m\u001B[43m,\u001B[49m\u001B[43m \u001B[49m\u001B[43mevent\u001B[49m\u001B[43m,\u001B[49m\u001B[43m \u001B[49m\u001B[43marg\u001B[49m\u001B[43m,\u001B[49m\u001B[43m \u001B[49m\u001B[43msuspend_type\u001B[49m\u001B[43m,\u001B[49m\u001B[43m \u001B[49m\u001B[43mfrom_this_thread\u001B[49m\u001B[43m)\u001B[49m\n",
      "File \u001B[0;32m/Applications/PyCharm.app/Contents/plugins/python-ce/helpers/pydev/pydevd.py:1235\u001B[0m, in \u001B[0;36mPyDB._do_wait_suspend\u001B[0;34m(self, thread, frame, event, arg, suspend_type, from_this_thread)\u001B[0m\n\u001B[1;32m   1232\u001B[0m             \u001B[38;5;28mself\u001B[39m\u001B[38;5;241m.\u001B[39m_call_mpl_hook()\n\u001B[1;32m   1234\u001B[0m         \u001B[38;5;28mself\u001B[39m\u001B[38;5;241m.\u001B[39mprocess_internal_commands()\n\u001B[0;32m-> 1235\u001B[0m         \u001B[43mtime\u001B[49m\u001B[38;5;241;43m.\u001B[39;49m\u001B[43msleep\u001B[49m\u001B[43m(\u001B[49m\u001B[38;5;241;43m0.01\u001B[39;49m\u001B[43m)\u001B[49m\n\u001B[1;32m   1237\u001B[0m \u001B[38;5;28mself\u001B[39m\u001B[38;5;241m.\u001B[39mcancel_async_evaluation(get_current_thread_id(thread), \u001B[38;5;28mstr\u001B[39m(\u001B[38;5;28mid\u001B[39m(frame)))\n\u001B[1;32m   1239\u001B[0m \u001B[38;5;66;03m# process any stepping instructions\u001B[39;00m\n",
      "\u001B[0;31mKeyboardInterrupt\u001B[0m: "
     ]
    }
   ],
   "execution_count": 7
  },
  {
   "metadata": {
    "ExecuteTime": {
     "end_time": "2024-11-04T05:01:33.920877Z",
     "start_time": "2024-11-04T05:01:33.916091Z"
    }
   },
   "cell_type": "code",
   "source": [
    "def myAtoi(s:str) -> int:\n",
    "    s=str.strip()\n",
    "    if not s:\n",
    "        return 0\n",
    "    sign=1\n",
    "    result=0\n",
    "    if s[0]=='-' or s[0]=='+':\n",
    "        if s[0]=='-1':\n",
    "            sign=-1\n",
    "        s=s[1:]\n",
    "    for char in s:\n",
    "        if not char.isdigit():\n",
    "            break\n",
    "        result=result*10+int(char)\n",
    "    \n",
    "    result=result*sign\n",
    "    \n",
    "    if result<-2**31:\n",
    "        return -2**31\n",
    "    elif result>2**31:\n",
    "        return 2**31-1\n",
    "    \n",
    "    return result\n",
    "    "
   ],
   "outputs": [],
   "execution_count": 9
  },
  {
   "metadata": {
    "ExecuteTime": {
     "end_time": "2024-11-04T05:02:12.902767Z",
     "start_time": "2024-11-04T05:02:12.900382Z"
    }
   },
   "cell_type": "code",
   "source": "myAtoi(' -000000000123ac')",
   "outputs": [
    {
     "data": {
      "text/plain": [
       "123"
      ]
     },
     "execution_count": 13,
     "metadata": {},
     "output_type": "execute_result"
    }
   ],
   "execution_count": 13
  },
  {
   "metadata": {},
   "cell_type": "code",
   "outputs": [],
   "execution_count": null,
   "source": ""
  }
 ],
 "metadata": {
  "kernelspec": {
   "display_name": "Python 3",
   "language": "python",
   "name": "python3"
  },
  "language_info": {
   "codemirror_mode": {
    "name": "ipython",
    "version": 3
   },
   "file_extension": ".py",
   "mimetype": "text/x-python",
   "name": "python",
   "nbconvert_exporter": "python",
   "pygments_lexer": "ipython3",
   "version": "3.12.6"
  }
 },
 "nbformat": 4,
 "nbformat_minor": 2
}
